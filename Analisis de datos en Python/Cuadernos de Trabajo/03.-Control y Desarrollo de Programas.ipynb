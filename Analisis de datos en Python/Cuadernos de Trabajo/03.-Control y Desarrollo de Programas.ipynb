{
 "cells": [
  {
   "cell_type": "markdown",
   "id": "89030283-116c-4976-8e73-b89f8381e6f3",
   "metadata": {},
   "source": [
    "# 3.- Control y desarrollo de Programas"
   ]
  },
  {
   "cell_type": "markdown",
   "id": "dbbe85a8-e01d-4b2f-a971-a40e971242ad",
   "metadata": {},
   "source": [
    "## 3.3 Algoritmos"
   ]
  },
  {
   "cell_type": "markdown",
   "id": "1e24fd7e-76ad-4e6f-80db-907c3ddae4d5",
   "metadata": {},
   "source": [
    "#### Por tu cuenta\n",
    "\n",
    "Escribe el programa de python que realice las instrucciones en el algoritmo 3.3 de tu manual."
   ]
  },
  {
   "cell_type": "code",
   "execution_count": 1,
   "id": "ea7857f1-87e9-4e21-9e39-83ab4bd47a0a",
   "metadata": {},
   "outputs": [],
   "source": [
    "#algoritmo = acciones a tomar y orden correcto de las acciones\n"
   ]
  },
  {
   "cell_type": "markdown",
   "id": "301cb629-91e3-433c-800f-baad2534271e",
   "metadata": {},
   "source": [
    "## 3.7.- Sentencia if "
   ]
  },
  {
   "cell_type": "markdown",
   "id": "410f8e45-c2d2-460f-87f6-9ea211142915",
   "metadata": {},
   "source": [
    "El usuario proporciona su año de nacimiento\n",
    "La cantidad debe leerse como un entero\n",
    "Si la variable 2021 – año de nacimiento, es mayor o igual a 25,\n",
    "el programa debe mostrar: Posible cliente"
   ]
  },
  {
   "cell_type": "markdown",
   "id": "c12a57c1-25fd-422c-b991-689f2af4cc34",
   "metadata": {},
   "source": [
    "Entonces el código para alguien que dijo nació en 1993 será:"
   ]
  },
  {
   "cell_type": "code",
   "execution_count": 2,
   "id": "d20cc775-bacf-4494-baf2-43a2a9bf013a",
   "metadata": {},
   "outputs": [],
   "source": [
    "nacimiento = int(input(\"Año de nacimiento: \"))"
   ]
  },
  {
   "cell_type": "code",
   "execution_count": 3,
   "id": "8f859198-f967-4e4a-919d-60bd4baa0af8",
   "metadata": {},
   "outputs": [
    {
     "name": "stdout",
     "output_type": "stream",
     "text": [
      "¿Eres un extraterrestre?\n"
     ]
    }
   ],
   "source": [
    "if nacimiento < 1900:\n",
    "    print(\"¿Eres un vampiro?\")\n",
    "else:\n",
    "    print(\"¿Eres un extraterrestre?\")"
   ]
  },
  {
   "cell_type": "markdown",
   "id": "9c93db3a-9773-40da-8d2f-f3b52be77c1d",
   "metadata": {},
   "source": [
    "Si no se añade indentación... error"
   ]
  },
  {
   "cell_type": "code",
   "execution_count": 4,
   "id": "72ed4d90-d281-4c11-aca1-f4f6765b6527",
   "metadata": {},
   "outputs": [
    {
     "ename": "IndentationError",
     "evalue": "expected an indented block (4260591425.py, line 2)",
     "output_type": "error",
     "traceback": [
      "\u001b[1;36m  Cell \u001b[1;32mIn [4], line 2\u001b[1;36m\u001b[0m\n\u001b[1;33m    print(\"¿Eres un vampiro?\")\u001b[0m\n\u001b[1;37m    ^\u001b[0m\n\u001b[1;31mIndentationError\u001b[0m\u001b[1;31m:\u001b[0m expected an indented block\n"
     ]
    }
   ],
   "source": [
    "if nacimiento < 1900:\n",
    "print(\"¿Eres un vampiro?\")\n",
    "else:\n",
    "print(\"¿Eres un extraterrestre?\")\n"
   ]
  },
  {
   "cell_type": "markdown",
   "id": "3ffd478d-5723-4baf-9845-10412bf3ff67",
   "metadata": {},
   "source": [
    "Hay que poner identación en todos lados"
   ]
  },
  {
   "cell_type": "code",
   "execution_count": 8,
   "id": "8c0bf0c4-4f38-423c-b6b9-ff116ac9d4eb",
   "metadata": {},
   "outputs": [
    {
     "name": "stdout",
     "output_type": "stream",
     "text": [
      "¿Eres un extraterrestre?\n"
     ]
    }
   ],
   "source": [
    "if nacimiento < 1900:\n",
    "    print(\"¿Eres un vampiro?\")\n",
    "else:\n",
    "    print(\"¿Eres un extraterrestre?\")\n"
   ]
  },
  {
   "cell_type": "markdown",
   "id": "a74cf5cc-5c5b-459e-bb49-9fb8683d514d",
   "metadata": {},
   "source": [
    "Todas las expresiones pueden ser interpretadas como falsas y verdaderas"
   ]
  },
  {
   "cell_type": "markdown",
   "id": "c8e79e45-5fc7-4a17-ad46-59d024196579",
   "metadata": {},
   "source": [
    "#### Por tu cuenta\n",
    "\n",
    "Cambia la fecha de nacimiento al 2002 del primer código"
   ]
  },
  {
   "cell_type": "markdown",
   "id": "d4c29904-0f82-468e-9b25-3bcf5e671341",
   "metadata": {},
   "source": [
    "## 3.8.- Sentencia if..else, if..elif...else"
   ]
  },
  {
   "cell_type": "markdown",
   "id": "9cd25587-cc7a-4202-b3e5-5e99369a0f6c",
   "metadata": {},
   "source": [
    "El usuario proporciona su año de nacimiento\n",
    "\n",
    "La cantidad debe leerse como un entero\n",
    "\n",
    "Si la variable 2021 – año de nacimiento, es mayor o igual a 25,\n",
    "\n",
    "el programa debe mostrar: Posible cliente\n",
    "\n",
    "en otro caso,\n",
    "\n",
    "debe mostrar: No es candidato"
   ]
  },
  {
   "cell_type": "markdown",
   "id": "3c80901e-93b7-4c46-8042-a1d135f92142",
   "metadata": {},
   "source": [
    "OK, escribe el código de lo anterior, observa la identación, prueba para 1985"
   ]
  },
  {
   "cell_type": "code",
   "execution_count": 9,
   "id": "6fc8df95-ced6-476d-921f-a9c38acbcc1f",
   "metadata": {},
   "outputs": [],
   "source": [
    "year = int(input('Ingresa tu a;o de nacimiento: '))"
   ]
  },
  {
   "cell_type": "code",
   "execution_count": 10,
   "id": "e7f0caec-9f05-4808-a009-d1a4348f24aa",
   "metadata": {},
   "outputs": [
    {
     "name": "stdout",
     "output_type": "stream",
     "text": [
      "no es candidato\n"
     ]
    }
   ],
   "source": [
    "if 2021 - year >= 25:\n",
    "    print('posible candidato')\n",
    "else:\n",
    "    print('no es candidato')"
   ]
  },
  {
   "cell_type": "markdown",
   "id": "eb5474b3-2c69-425d-b284-4b4973d3e4c4",
   "metadata": {},
   "source": [
    "Y ahora para 1999"
   ]
  },
  {
   "cell_type": "code",
   "execution_count": 11,
   "id": "a1c7c3e9-c733-414e-a384-0d594a6018aa",
   "metadata": {},
   "outputs": [
    {
     "name": "stdout",
     "output_type": "stream",
     "text": [
      "no es candidato\n"
     ]
    }
   ],
   "source": [
    "if 1999 - year >= 25:\n",
    "    print('posible candidato')\n",
    "else:\n",
    "    print('no es candidato')\n"
   ]
  },
  {
   "cell_type": "code",
   "execution_count": null,
   "id": "0b66e4bb-1a5a-48e3-bb29-156982d7d48b",
   "metadata": {},
   "outputs": [],
   "source": []
  },
  {
   "cell_type": "markdown",
   "id": "b1cb650e-ff5d-4791-819e-3d4f31ae49f5",
   "metadata": {},
   "source": [
    "Ok, otra alternativa es asignar las acciones a una variable"
   ]
  },
  {
   "cell_type": "code",
   "execution_count": 12,
   "id": "91b05b4c-e6ea-487c-8e23-341d6a5c33d2",
   "metadata": {},
   "outputs": [],
   "source": [
    "if 2021 - year >= 25:\n",
    "    cliente1 = 'si'\n",
    "else:\n",
    "    cliente1 = 'no'\n",
    "\n",
    "#se pueden asignar una creacion de variables nuevas en las condicionales"
   ]
  },
  {
   "cell_type": "code",
   "execution_count": null,
   "id": "2859bcbc-92e4-4729-91f2-a295bdc701f8",
   "metadata": {},
   "outputs": [
    {
     "data": {
      "text/plain": [
       "'si'"
      ]
     },
     "execution_count": 18,
     "metadata": {},
     "output_type": "execute_result"
    }
   ],
   "source": [
    "cliente1"
   ]
  },
  {
   "cell_type": "markdown",
   "id": "06bd7ff2-8017-4580-8cf4-845751e7143f",
   "metadata": {},
   "source": [
    "Cada condición (if) puede realizar más de una acción - solo recuerda indentar"
   ]
  },
  {
   "cell_type": "code",
   "execution_count": 13,
   "id": "6a033eb5-34cd-4a18-8aca-170cce1ee3f3",
   "metadata": {},
   "outputs": [
    {
     "name": "stdout",
     "output_type": "stream",
     "text": [
      "no es candidato\n",
      "p2\n"
     ]
    }
   ],
   "source": [
    "if 2021 - year >= 25:\n",
    "    print('posible candidato')\n",
    "    print('p1')\n",
    "else:\n",
    "    print('no es candidato')\n",
    "    print('p2')\n"
   ]
  },
  {
   "cell_type": "markdown",
   "id": "1781ed40-5814-4600-a8b6-2d9e5a816e9a",
   "metadata": {},
   "source": [
    "Por que si dejamos sin identación, siempre se va a ejecutar (y es un mundo de errores)"
   ]
  },
  {
   "cell_type": "code",
   "execution_count": null,
   "id": "7eff9135-4ba5-4585-a359-d99a9846fb2c",
   "metadata": {},
   "outputs": [],
   "source": []
  },
  {
   "cell_type": "markdown",
   "id": "45f8933d-a55f-4236-833d-8058d16395e6",
   "metadata": {},
   "source": [
    "Si la edad de la persona es mayor o igual a 60\n",
    "Mostrar: Adulto Mayor\n",
    "Si la edad de la persona es mayor o igual a 27\n",
    "Mostrar: Adulto\n",
    "Si la edad de la persona es mayor o igual a 18\n",
    "Mostrar: Joven\n",
    "Si la edad de la persona es mayor o igual a 12\n",
    "Mostrar: Adolescente\n",
    "En otro caso,\n",
    "Mostrar: Infante"
   ]
  },
  {
   "cell_type": "markdown",
   "id": "861e7951-f7d3-467c-9f92-e534069381c6",
   "metadata": {},
   "source": [
    "#### Por tu Cuenta\n",
    "\n",
    "Arma un programa basado en el pseudocódigo anterior"
   ]
  },
  {
   "cell_type": "code",
   "execution_count": 14,
   "id": "c8fd22ba-77a5-4033-a35a-d00947458df5",
   "metadata": {},
   "outputs": [
    {
     "name": "stdout",
     "output_type": "stream",
     "text": [
      "adulto\n"
     ]
    }
   ],
   "source": [
    "edad = int(input('Dame tu edad: '))\n",
    "\n",
    "if edad >= 60:\n",
    "    print('pensionado')\n",
    "elif edad >= 27:\n",
    "    print('adulto')\n",
    "elif edad >= 18:\n",
    "    print('joven')\n",
    "elif edad >= 12:\n",
    "    print('adolescente')\n",
    "else:\n",
    "    print('niño')\n",
    "\n",
    "#if: si\n",
    "#elif: si no si\n",
    "#else: si no\n"
   ]
  },
  {
   "cell_type": "markdown",
   "id": "6a350229-d037-49b8-8a10-831c579ac107",
   "metadata": {},
   "source": [
    "## 3.9.- Sentencia While"
   ]
  },
  {
   "cell_type": "markdown",
   "id": "c774587b-29d9-475f-9912-24ab63b9fc04",
   "metadata": {},
   "source": [
    "Iniciar con potencia=4\n",
    "Mientras que potencia sea menor o igual a 817\n",
    "Potencia=potencia*4"
   ]
  },
  {
   "cell_type": "code",
   "execution_count": 15,
   "id": "aa39f319-6140-457b-9dfe-d65e260ad670",
   "metadata": {},
   "outputs": [
    {
     "name": "stdout",
     "output_type": "stream",
     "text": [
      "2 16\n",
      "3 64\n",
      "4 256\n",
      "5 1024\n"
     ]
    }
   ],
   "source": [
    "potencia = 4\n",
    "contador = 1\n",
    "\n",
    "while potencia < 817:\n",
    "    potencia = potencia * 4\n",
    "    contador = contador + 1\n",
    "    print(contador, potencia)\n",
    "\n",
    "#while: repite una linea de codigo MIENTRAS se cumpla una condicion\n",
    "#while: mientras\n",
    "#break: rompe el ciclo\n",
    "#continue: continua el ciclo\n",
    "#pass: no hace nada\n",
    "#range: rango de valores\n",
    "#enumerate: enumerar\n",
    "#zip: combinar\n",
    "#list: lista []\n",
    "#dict: diccionario {:,:,:}\n",
    "#set: conjunto {}\n",
    "#tuple: tupla ()"
   ]
  },
  {
   "cell_type": "markdown",
   "id": "c91db9d8-93f3-4d3a-a657-9b2b47f3aa50",
   "metadata": {},
   "source": [
    "Arma un programa que ejecute el pseudocódigo anterior"
   ]
  },
  {
   "cell_type": "code",
   "execution_count": null,
   "id": "fc738513-065b-4ede-be43-077f8cb20581",
   "metadata": {},
   "outputs": [],
   "source": []
  },
  {
   "cell_type": "code",
   "execution_count": null,
   "id": "609c2a31-d0c2-45bc-a645-4866d3718e8e",
   "metadata": {},
   "outputs": [],
   "source": []
  },
  {
   "cell_type": "markdown",
   "id": "3cc4527c-0db2-489c-b3f4-6824da60fe0d",
   "metadata": {},
   "source": [
    "# 3.10.- Sentencia For"
   ]
  },
  {
   "cell_type": "markdown",
   "id": "faf76ecb-2024-4504-b999-397258a8b613",
   "metadata": {},
   "source": [
    "Analiza el siguiente ejemplo\n",
    "\n",
    "for caracter in ‘Palabra’:\n",
    "    print(caracter, end=’ ‘)\n",
    "\n"
   ]
  },
  {
   "cell_type": "code",
   "execution_count": 16,
   "id": "2be519f0-0b2f-41cd-889a-324243b1c74e",
   "metadata": {},
   "outputs": [
    {
     "name": "stdout",
     "output_type": "stream",
     "text": [
      "p, a, l, a, b, r, a, "
     ]
    }
   ],
   "source": [
    "#for es un bucle que permite repetir acciones y lo repite en elementos\n",
    "#de una lista, tupla, diccionario, etc.\n",
    "#range: rango de valores\n",
    "\n",
    "for i in 'palabra':\n",
    "    print(i, end = ', ')\n",
    "\n",
    "#end: termina la linea de codigo\n",
    "#tengo una cadena de texto que dice palabra, y se le asigna una variable nueva, en este caso la letra I la cual es la mas usada\n"
   ]
  },
  {
   "cell_type": "markdown",
   "id": "836a856c-ded9-42f9-b816-ca57889fdbc2",
   "metadata": {},
   "source": [
    "Arma un programa que te calcule el factorial de algún número dado"
   ]
  },
  {
   "cell_type": "code",
   "execution_count": 17,
   "id": "7269cb54-02c7-4b6f-b400-bc8b9d573d01",
   "metadata": {},
   "outputs": [
    {
     "data": {
      "text/plain": [
       "720"
      ]
     },
     "execution_count": 17,
     "metadata": {},
     "output_type": "execute_result"
    }
   ],
   "source": [
    "numero = int(input(\"Dame un numero: \"))\n",
    "factorial = 1\n",
    "\n",
    "for i in range(1, numero + 1): #en el rango de 1 al numero elegido mas 1, hacemos una interacion\n",
    "    factorial = factorial * i #mi variable factorial es igual a factorial por cada  iteracion por variable del range\n",
    "\n",
    "factorial"
   ]
  },
  {
   "cell_type": "markdown",
   "id": "48fe5311-9076-44f6-8ef0-59ba0c09c9ea",
   "metadata": {},
   "source": [
    "Conoce el operador *= que te permite guardar el resultado en si mismo"
   ]
  },
  {
   "cell_type": "code",
   "execution_count": 18,
   "id": "2e627ca5-8755-455c-be36-b4df3deae649",
   "metadata": {},
   "outputs": [
    {
     "data": {
      "text/plain": [
       "362880"
      ]
     },
     "execution_count": 18,
     "metadata": {},
     "output_type": "execute_result"
    }
   ],
   "source": [
    "numero = int(input(\"Dame un numero: \"))\n",
    "factorial = 1\n",
    "\n",
    "for i in range(1, numero + 1):  # en el rango de 1 al numero elegido mas 1, hacemos una interacion\n",
    "    # mi variable factorial es igual a factorial por cada  iteracion por variable del range\n",
    "    factorial *= i #multiplicalo por si mismo\n",
    "\n",
    "factorial\n"
   ]
  },
  {
   "cell_type": "markdown",
   "id": "f8ee4c02-8084-4b20-beb0-ffddf7f9e8a4",
   "metadata": {},
   "source": [
    "Podemos usar range si la suceción de elementos en for es una suscesión ordenada"
   ]
  },
  {
   "cell_type": "code",
   "execution_count": 19,
   "id": "016bb41a-99fd-4aee-aad0-ee994eb082cc",
   "metadata": {},
   "outputs": [
    {
     "name": "stdout",
     "output_type": "stream",
     "text": [
      "0, 1, 2, 3, 4, "
     ]
    }
   ],
   "source": [
    "for i in  range(5): #python es un lenguaje indice 0, o sea que inicia siempre en o a menos que se le indique lo contrario\n",
    "    print(i, end = ', ')"
   ]
  },
  {
   "cell_type": "markdown",
   "id": "89526fc0-663e-405b-9b71-4ad0c5eb77d6",
   "metadata": {},
   "source": [
    "Si necesitas salir del ciclo usa Break.\n",
    "\n",
    "Haz un programa que para todos los números del 1-10, muestre el número en pantalla... peeeero al llegar al 8 haga break."
   ]
  },
  {
   "cell_type": "code",
   "execution_count": 20,
   "id": "7b739677-ee9b-4511-aae4-e295dcf24242",
   "metadata": {},
   "outputs": [
    {
     "name": "stdout",
     "output_type": "stream",
     "text": [
      "8, "
     ]
    }
   ],
   "source": [
    "for i in range(11):\n",
    "    if i == 8:\n",
    "        break\n",
    "print(i, end=', ')\n"
   ]
  },
  {
   "attachments": {},
   "cell_type": "markdown",
   "id": "9ec03229-a673-4e57-be0a-44708327b956",
   "metadata": {},
   "source": [
    "#### Por tu cuenta\n",
    "\n",
    "Usa for para calcular el consumo promedio de los siguientes clientes\n",
    "\n",
    "[130,85,210,45,153,78.5,264.5,94]\n",
    "\n",
    "Esta lista te muestra el consumo de cada cliente"
   ]
  },
  {
   "cell_type": "code",
   "execution_count": 21,
   "id": "793cbe1c-3303-4284-a5f9-da91d55cbcc6",
   "metadata": {},
   "outputs": [
    {
     "name": "stdout",
     "output_type": "stream",
     "text": [
      "Compra 1, acumulo 130\n",
      "Compra 2, acumulo 215\n",
      "Compra 3, acumulo 425\n",
      "Compra 4, acumulo 470\n",
      "Compra 5, acumulo 623\n",
      "Compra 6, acumulo 701.5\n",
      "Compra 7, acumulo 966.0\n",
      "Compra 8, acumulo 1060.0\n",
      "El consumo promedio es 132.5\n"
     ]
    }
   ],
   "source": [
    "sumatotal = 0\n",
    "clientes = 0\n",
    "\n",
    "for i in [130,85,210,45,153,78.5,264.5,94]:\n",
    "    sumatotal += i #agarra cada valor de la lista y suma cada elemento, luego a ese valor le vuelve a repetir la operacion pasada\n",
    "    clientes += 1 #cada consumo que haga, suma un cliente\n",
    "    print(f'Compra {clientes}, acumulo {sumatotal}')\n",
    "    \n",
    "print(f'El consumo promedio es {sumatotal/clientes}')"
   ]
  },
  {
   "cell_type": "markdown",
   "id": "4dfbadfd-4552-40bb-be14-f0a06f6cc589",
   "metadata": {},
   "source": [
    "#### Por tu cuenta\n",
    "\n",
    "usa for para calcular el interes compuesto de una persona que invierte $10,000 en una cuenta que rinde el 8% de intereses. Supon que la persona reinvierte los intereses. Calcula la cantida ddel dinero al final de 10 años"
   ]
  },
  {
   "cell_type": "code",
   "execution_count": null,
   "id": "6ae87f0a-c126-4686-a68a-718750cd6cb4",
   "metadata": {},
   "outputs": [
    {
     "name": "stdout",
     "output_type": "stream",
     "text": [
      "En el año 1 la inversion es de 10800.0\n",
      "En el año 2 la inversion es de 11664.0\n",
      "En el año 3 la inversion es de 12597.12\n",
      "En el año 4 la inversion es de 13604.89\n",
      "En el año 5 la inversion es de 14693.28\n",
      "En el año 6 la inversion es de 15868.74\n",
      "En el año 7 la inversion es de 17138.24\n",
      "En el año 8 la inversion es de 18509.3\n",
      "En el año 9 la inversion es de 19990.05\n",
      "En el año 10 la inversion es de 21589.25\n",
      "La inversion final es de 21589.25\n"
     ]
    }
   ],
   "source": [
    "\n",
    "inversion = 10000\n",
    "interes = 1.08\n",
    "años = 0\n",
    "\n",
    "for i in range(10):\n",
    "    inversion *= interes\n",
    "    años += 1\n",
    "    print(f'En el año {años} la inversion es de {round(inversion,2)}')\n",
    "\n",
    "print(f'La inversion final es de {round(inversion,2)}')"
   ]
  },
  {
   "cell_type": "markdown",
   "id": "f70e0474-b78c-41e6-b4bf-b7d406afc18e",
   "metadata": {},
   "source": [
    "#### Por tu cuenta\n",
    "\n",
    "En una tienda de autoservicio hay un promotor en la sección de productos lácteos. La empresa\n",
    "para la que trabaja, le otorga un premio económico si rebasa $200 de ventas (venta meta) por\n",
    "cliente. La empresa cuenta con un registro en donde están marcadas las ventas de 8 clientes que\n",
    "adquirieron algunos de los productos de la marca. Por cada cliente que rebasó la cantidad meta se\n",
    "escribe 1, y si no la rebasa se escribe 2. Si número de clientes que rebasan la venta meta es más de\n",
    "la mitad, se le otorga el premio al promotor. Se requiere de un programa que señale si al promotor\n",
    "se le debe asignar el premio económico"
   ]
  },
  {
   "cell_type": "code",
   "execution_count": null,
   "id": "709467af-aa12-4e2b-a6f9-9ddbf3dc5cf4",
   "metadata": {},
   "outputs": [
    {
     "ename": "TypeError",
     "evalue": "'int' object is not callable",
     "output_type": "error",
     "traceback": [
      "\u001b[1;31m---------------------------------------------------------------------------\u001b[0m",
      "\u001b[1;31mTypeError\u001b[0m                                 Traceback (most recent call last)",
      "Cell \u001b[1;32mIn [107], line 5\u001b[0m\n\u001b[0;32m      2\u001b[0m norev \u001b[39m=\u001b[39m \u001b[39m0\u001b[39m\n\u001b[0;32m      4\u001b[0m \u001b[39mfor\u001b[39;00m i \u001b[39min\u001b[39;00m \u001b[39mrange\u001b[39m (\u001b[39m8\u001b[39m):\n\u001b[1;32m----> 5\u001b[0m     resultado \u001b[39m=\u001b[39m \u001b[39mint\u001b[39;49m(\u001b[39minput\u001b[39;49m(\u001b[39m'\u001b[39;49m\u001b[39mIngresa 1 o 2: \u001b[39;49m\u001b[39m'\u001b[39;49m))\n\u001b[0;32m      6\u001b[0m     \u001b[39mif\u001b[39;00m resultado \u001b[39m==\u001b[39m \u001b[39m1\u001b[39m:\n\u001b[0;32m      7\u001b[0m         rev \u001b[39m+\u001b[39m\u001b[39m=\u001b[39m\u001b[39m1\u001b[39m\n",
      "\u001b[1;31mTypeError\u001b[0m: 'int' object is not callable"
     ]
    }
   ],
   "source": [
    "rev = 0\n",
    "norev = 0\n",
    "\n",
    "for i in range (8):\n",
    "    resultado = int(input('Ingresa 1 o 2: ')) #si queremos ingresar N cantidad de datos, hay que poner el input anidado al FOR\n",
    "    if resultado == 1:\n",
    "        rev +=1\n",
    "    elif resultado == 2:\n",
    "        norev +=1\n",
    "\n",
    "print(f'El numero que pasaron es de {rev} y el numero que no pasaron es de {norev}')\n",
    "\n",
    "if rev > 4:\n",
    "    print('El producto es aprobado')"
   ]
  },
  {
   "cell_type": "markdown",
   "id": "f8d3b5e3-6330-4c14-b58a-0cca551d2859",
   "metadata": {},
   "source": [
    "## 3.11.- Operadores Booleanos"
   ]
  },
  {
   "cell_type": "markdown",
   "id": "6c08d764-a3d9-4a66-b302-3d2b6ea26c9a",
   "metadata": {},
   "source": [
    "Arma un programa que revise si un cliente registró su mail Y que su salario mensual sea mayor a 20,000 pesos para poder declararlo como posible cliente"
   ]
  },
  {
   "cell_type": "code",
   "execution_count": 25,
   "id": "5a56ad9a-8461-4b37-9822-ae169684fd99",
   "metadata": {},
   "outputs": [
    {
     "name": "stdout",
     "output_type": "stream",
     "text": [
      "El candidato es apto\n"
     ]
    }
   ],
   "source": [
    "mail = True\n",
    "salario = 20001\n",
    "\n",
    "if mail == True and salario > 20000: \n",
    "    print('El candidato es apto')\n",
    "else:\n",
    "    print('El candidato no es apto')\n",
    "\n",
    "#and: y\n",
    "#or: o\n",
    "#not: no\n",
    "\n"
   ]
  },
  {
   "cell_type": "markdown",
   "id": "ef7df93f-b65c-44a8-8003-0eab0051c033",
   "metadata": {},
   "source": [
    "Arma un programa que revise si un posible candidato laboral va tiene titulo o al menos 5 años de experiencia laboral para poder llamarlo a entrevista"
   ]
  },
  {
   "cell_type": "code",
   "execution_count": 24,
   "id": "53f119f7-01eb-46d9-b9c8-be1eb9ecdcb2",
   "metadata": {},
   "outputs": [
    {
     "name": "stdout",
     "output_type": "stream",
     "text": [
      "El candidato es apto\n"
     ]
    }
   ],
   "source": [
    "titulo = True\n",
    "ExpLab = 6\n",
    "\n",
    "if titulo == True or ExpLab >= 5:\n",
    "    print('El candidato es apto')\n",
    "else:\n",
    "    print('El candidato no es apto')"
   ]
  }
 ],
 "metadata": {
  "kernelspec": {
   "display_name": "Python 3.9.15 ('base')",
   "language": "python",
   "name": "python3"
  },
  "language_info": {
   "codemirror_mode": {
    "name": "ipython",
    "version": 3
   },
   "file_extension": ".py",
   "mimetype": "text/x-python",
   "name": "python",
   "nbconvert_exporter": "python",
   "pygments_lexer": "ipython3",
   "version": "3.9.15"
  },
  "vscode": {
   "interpreter": {
    "hash": "07d2e02202f63ce2c6807641b287fe60d63713b50f1598d22ea1dc9eab8af081"
   }
  }
 },
 "nbformat": 4,
 "nbformat_minor": 5
}
